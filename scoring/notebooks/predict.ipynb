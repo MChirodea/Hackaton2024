{
 "cells": [
  {
   "cell_type": "markdown",
   "metadata": {},
   "source": [
    "# Imports"
   ]
  },
  {
   "cell_type": "code",
   "execution_count": 1,
   "metadata": {},
   "outputs": [],
   "source": [
    "import pickle\n",
    "import pandas as pd\n",
    "import numpy as np"
   ]
  },
  {
   "cell_type": "markdown",
   "metadata": {},
   "source": [
    "# Load model"
   ]
  },
  {
   "cell_type": "code",
   "execution_count": 2,
   "metadata": {},
   "outputs": [],
   "source": [
    "model_path = '../data/random_forest_model.pkl'\n",
    "with open(model_path, 'rb') as file:\n",
    "    loaded_model = pickle.load(file)"
   ]
  },
  {
   "cell_type": "markdown",
   "metadata": {},
   "source": [
    "# Predict"
   ]
  },
  {
   "cell_type": "code",
   "execution_count": 3,
   "metadata": {},
   "outputs": [],
   "source": [
    "def predict(df):\n",
    "    # Make sure the features columns order is the same as in the training dataset\n",
    "    columns = ['a01_answer', 'a01_confidence', 'a02_answer', 'a02_confidence',\n",
    "        'a03_answer', 'a03_confidence', 'a04_answer', 'a04_confidence',\n",
    "        'a05_answer', 'a05_confidence', 'a06_answer', 'a06_confidence',\n",
    "        'a07_answer', 'a07_confidence', 'a08_answer', 'a08_confidence',\n",
    "        'a09_answer', 'a09_confidence', 'a10_answer', 'a10_confidence',\n",
    "        'a11_answer', 'a11_confidence']\n",
    "    df = df[columns] \n",
    "    \n",
    "    predictions = loaded_model.predict(df)\n",
    "    \n",
    "    return predictions"
   ]
  },
  {
   "cell_type": "markdown",
   "metadata": {},
   "source": [
    "# Single records"
   ]
  },
  {
   "cell_type": "code",
   "execution_count": 4,
   "metadata": {},
   "outputs": [],
   "source": [
    "single_record_df = pd.DataFrame({\n",
    "    'a01_answer': [True], \n",
    "    'a01_confidence': [0.95],\n",
    "    'a02_answer': [False],\n",
    "    'a02_confidence': [0.85],\n",
    "    'a03_answer': [True],\n",
    "    'a03_confidence': [0.9],\n",
    "    'a04_answer': [True],\n",
    "    'a04_confidence': [0.95],\n",
    "    'a05_answer': [False],\n",
    "    'a05_confidence': [0.8],\n",
    "    'a06_answer': [False],\n",
    "    'a06_confidence': [0.92],\n",
    "    'a07_answer': [False],\n",
    "    'a07_confidence': [0.88],\n",
    "    'a08_answer': [False],\n",
    "    'a08_confidence': [0.9],\n",
    "    'a09_answer': [False],\n",
    "    'a09_confidence': [0.95],\n",
    "    'a10_answer': [False],\n",
    "    'a10_confidence': [0.9],\n",
    "    'a11_answer': [True],\n",
    "    'a11_confidence': [0.85]\n",
    "})"
   ]
  },
  {
   "cell_type": "code",
   "execution_count": 5,
   "metadata": {},
   "outputs": [
    {
     "name": "stdout",
     "output_type": "stream",
     "text": [
      "Predictions: [0.8155]\n"
     ]
    }
   ],
   "source": [
    "pred_single_record_df = predict(single_record_df)\n",
    "print(\"Predictions:\", pred_single_record_df)"
   ]
  },
  {
   "cell_type": "markdown",
   "metadata": {},
   "source": [
    "# Multiple records"
   ]
  },
  {
   "cell_type": "code",
   "execution_count": 6,
   "metadata": {},
   "outputs": [],
   "source": [
    "multiple_records_df = pd.DataFrame({\n",
    "    'a01_answer': [True, False], \n",
    "    'a01_confidence': [0.95, 0.8],\n",
    "    'a02_answer': [False, True],\n",
    "    'a02_confidence': [0.85, 0.75],\n",
    "    'a03_answer': [True, False],\n",
    "    'a03_confidence': [0.9, 0.85],\n",
    "    'a04_answer': [True, True],\n",
    "    'a04_confidence': [0.95, 0.9],\n",
    "    'a05_answer': [False, True],\n",
    "    'a05_confidence': [0.8, 0.75],\n",
    "    'a06_answer': [False, True],\n",
    "    'a06_confidence': [0.92, 0.85],\n",
    "    'a07_answer': [False, True],\n",
    "    'a07_confidence': [0.88, 0.8],\n",
    "    'a08_answer': [False, True],\n",
    "    'a08_confidence': [0.9, 0.85],\n",
    "    'a09_answer': [False, True],\n",
    "    'a09_confidence': [0.95, 0.8],\n",
    "    'a10_answer': [False, True],\n",
    "    'a10_confidence': [0.9, 0.85],\n",
    "    'a11_answer': [True, False],\n",
    "    'a11_confidence': [0.85, 0.7]\n",
    "})"
   ]
  },
  {
   "cell_type": "code",
   "execution_count": 7,
   "metadata": {},
   "outputs": [
    {
     "name": "stdout",
     "output_type": "stream",
     "text": [
      "Predictions: [0.8155   0.795025]\n"
     ]
    }
   ],
   "source": [
    "pred_multiple_records_df = predict(multiple_records_df)\n",
    "print(\"Predictions:\", pred_multiple_records_df)"
   ]
  }
 ],
 "metadata": {
  "kernelspec": {
   "display_name": "Python (ml-scoring)",
   "language": "python",
   "name": "ml_score"
  },
  "language_info": {
   "codemirror_mode": {
    "name": "ipython",
    "version": 3
   },
   "file_extension": ".py",
   "mimetype": "text/x-python",
   "name": "python",
   "nbconvert_exporter": "python",
   "pygments_lexer": "ipython3",
   "version": "3.12.7"
  }
 },
 "nbformat": 4,
 "nbformat_minor": 2
}
